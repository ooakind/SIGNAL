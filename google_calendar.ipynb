{
 "cells": [
  {
   "cell_type": "code",
   "execution_count": 6,
   "id": "827b423d",
   "metadata": {},
   "outputs": [],
   "source": [
    "import datetime\n",
    "import os.path\n",
    "import requests\n",
    "import googlemaps\n",
    "import json"
   ]
  },
  {
   "cell_type": "code",
   "execution_count": 2,
   "id": "04a38efb",
   "metadata": {},
   "outputs": [],
   "source": [
    "from google.auth.transport.requests import Request\n",
    "from google.oauth2.credentials import Credentials\n",
    "from google_auth_oauthlib.flow import InstalledAppFlow\n",
    "from googleapiclient.discovery import build\n",
    "from googleapiclient.errors import HttpError"
   ]
  },
  {
   "cell_type": "code",
   "execution_count": 4,
   "id": "2494583e",
   "metadata": {},
   "outputs": [
    {
     "name": "stdout",
     "output_type": "stream",
     "text": [
      "Getting the upcoming 10 events\n",
      "2022-11-03 Stay at Hampton Inn & Suites Seattle-Downtown\n"
     ]
    }
   ],
   "source": [
    "# If modifying these scopes, delete the file token.json.\n",
    "SCOPES = ['https://www.googleapis.com/auth/calendar.readonly']\n",
    "\n",
    "TOKEN_FILE = \"token.json\"\n",
    "CREDENTIAL_FILE = \"credential.json\"\n",
    "\n",
    "def main():\n",
    "    \"\"\"Shows basic usage of the Google Calendar API.\n",
    "    Prints the start and name of the next 10 events on the user's calendar.\n",
    "    \"\"\"\n",
    "    creds = None\n",
    "    # The file token.json stores the user's access and refresh tokens, and is\n",
    "    # created automatically when the authorization flow completes for the first\n",
    "    # time.\n",
    "    if os.path.exists(TOKEN_FILE):\n",
    "        creds = Credentials.from_authorized_user_file(TOKEN_FILE, SCOPES)\n",
    "    # If there are no (valid) credentials available, let the user log in.\n",
    "    if not creds or not creds.valid:\n",
    "        if creds and creds.expired and creds.refresh_token:\n",
    "            creds.refresh(Request())\n",
    "        else:\n",
    "            flow = InstalledAppFlow.from_client_secrets_file(\n",
    "                CREDENTIAL_FILE, SCOPES)\n",
    "            creds = flow.run_local_server(port=0)\n",
    "        # Save the credentials for the next run\n",
    "        with open(TOKEN_FILE, 'w') as token:\n",
    "            token.write(creds.to_json())\n",
    "\n",
    "    try:\n",
    "        service = build('calendar', 'v3', credentials=creds)\n",
    "\n",
    "        # Call the Calendar API\n",
    "        now = datetime.datetime.utcnow().isoformat() + 'Z'  # 'Z' indicates UTC time\n",
    "        print('Getting the upcoming 10 events')\n",
    "        events_result = service.events().list(calendarId='primary', timeMin=now,\n",
    "                                              maxResults=10, singleEvents=True,\n",
    "                                              orderBy='startTime').execute()\n",
    "        events = events_result.get('items', [])\n",
    "\n",
    "        if not events:\n",
    "            print('No upcoming events found.')\n",
    "            return\n",
    "\n",
    "        # Prints the start and name of the next 10 events\n",
    "        for event in events:\n",
    "            start = event['start'].get('dateTime', event['start'].get('date'))\n",
    "            print(start, event['summary'])\n",
    "\n",
    "    except HttpError as error:\n",
    "        print('An error occurred: %s' % error)\n",
    "\n",
    "\n",
    "if __name__ == '__main__':\n",
    "    main()"
   ]
  },
  {
   "cell_type": "code",
   "execution_count": 8,
   "id": "4edfb19a",
   "metadata": {},
   "outputs": [
    {
     "name": "stdout",
     "output_type": "stream",
     "text": [
      "{\n",
      "  \"location\": {\n",
      "    \"lat\": 36.0152785,\n",
      "    \"lng\": 129.3309904\n",
      "  },\n",
      "  \"accuracy\": 1486.4628454273964\n",
      "}\n",
      "\n",
      "[{'address_components': [{'long_name': '７８０−１６１', 'short_name': '７８０−１６１', 'types': ['premise']}, {'long_name': '대이동', 'short_name': '대이동', 'types': ['political', 'sublocality', 'sublocality_level_2']}, {'long_name': '남구', 'short_name': '남구', 'types': ['political', 'sublocality', 'sublocality_level_1']}, {'long_name': '포항시', 'short_name': '포항시', 'types': ['locality', 'political']}, {'long_name': '경상북도', 'short_name': '경상북도', 'types': ['administrative_area_level_1', 'political']}, {'long_name': '대한민국', 'short_name': 'KR', 'types': ['country', 'political']}, {'long_name': '790-310', 'short_name': '790-310', 'types': ['postal_code']}], 'formatted_address': '대한민국 경상북도 포항시 남구 대이동 780-161', 'geometry': {'location': {'lat': 36.0150377, 'lng': 129.3308548}, 'location_type': 'ROOFTOP', 'viewport': {'northeast': {'lat': 36.0163866802915, 'lng': 129.3322037802915}, 'southwest': {'lat': 36.0136887197085, 'lng': 129.3295058197085}}}, 'place_id': 'ChIJ5esrAtABZzUREQbSfk7B5Qs', 'plus_code': {'compound_code': '288J+28 대한민국 경상북도 포항시', 'global_code': '8Q8F288J+28'}, 'types': ['street_address']}, {'address_components': [{'long_name': '포항시', 'short_name': '포항시', 'types': ['locality', 'political']}, {'long_name': '경상북도', 'short_name': '경상북도', 'types': ['administrative_area_level_1', 'political']}, {'long_name': '대한민국', 'short_name': 'KR', 'types': ['country', 'political']}, {'long_name': '790-310', 'short_name': '790-310', 'types': ['postal_code']}], 'formatted_address': '대한민국 경상북도 포항시 남구 대잠동 172-15번지 1층', 'geometry': {'location': {'lat': 36.0143245, 'lng': 129.3317801}, 'location_type': 'GEOMETRIC_CENTER', 'viewport': {'northeast': {'lat': 36.0156734802915, 'lng': 129.3331290802915}, 'southwest': {'lat': 36.0129755197085, 'lng': 129.3304311197085}}}, 'place_id': 'ChIJf623788BZzURBzS6JR_D2-4', 'plus_code': {'compound_code': '287J+PP 대한민국 경상북도 포항시', 'global_code': '8Q8F287J+PP'}, 'types': ['establishment', 'food', 'grocery_or_supermarket', 'point_of_interest', 'store']}, {'address_components': [{'long_name': '288J+49', 'short_name': '288J+49', 'types': ['plus_code']}, {'long_name': '포항시', 'short_name': '포항시', 'types': ['locality', 'political']}, {'long_name': '경상북도', 'short_name': '경상북도', 'types': ['administrative_area_level_1', 'political']}, {'long_name': '대한민국', 'short_name': 'KR', 'types': ['country', 'political']}], 'formatted_address': '288J+49 대한민국 경상북도 포항시', 'geometry': {'bounds': {'northeast': {'lat': 36.015375, 'lng': 129.331}, 'southwest': {'lat': 36.01525, 'lng': 129.330875}}, 'location': {'lat': 36.0152785, 'lng': 129.3309904}, 'location_type': 'GEOMETRIC_CENTER', 'viewport': {'northeast': {'lat': 36.0166614802915, 'lng': 129.3322864802915}, 'southwest': {'lat': 36.0139635197085, 'lng': 129.3295885197085}}}, 'place_id': 'GhIJfepYpfQBQkARR-kteZcqYEA', 'plus_code': {'compound_code': '288J+49 대한민국 경상북도 포항시', 'global_code': '8Q8F288J+49'}, 'types': ['plus_code']}, {'address_components': [{'long_name': '행복길78번길', 'short_name': '행복길78번길', 'types': ['political', 'sublocality', 'sublocality_level_4']}, {'long_name': '남구', 'short_name': '남구', 'types': ['political', 'sublocality', 'sublocality_level_1']}, {'long_name': '포항시', 'short_name': '포항시', 'types': ['locality', 'political']}, {'long_name': '경상북도', 'short_name': '경상북도', 'types': ['administrative_area_level_1', 'political']}, {'long_name': '대한민국', 'short_name': 'KR', 'types': ['country', 'political']}, {'long_name': '790-310', 'short_name': '790-310', 'types': ['postal_code']}], 'formatted_address': '대한민국 경상북도 포항시 남구 행복길78번길', 'geometry': {'bounds': {'northeast': {'lat': 36.0160597, 'lng': 129.3329686}, 'southwest': {'lat': 36.0138085, 'lng': 129.3300695}}, 'location': {'lat': 36.0150157, 'lng': 129.3313225}, 'location_type': 'APPROXIMATE', 'viewport': {'northeast': {'lat': 36.01628308029149, 'lng': 129.3329686}, 'southwest': {'lat': 36.01358511970849, 'lng': 129.3300695}}}, 'place_id': 'ChIJeySt-c8BZzUR83duoWVUkgA', 'types': ['political', 'sublocality', 'sublocality_level_4']}, {'address_components': [{'long_name': '790-310', 'short_name': '790-310', 'types': ['postal_code']}, {'long_name': '대잠동', 'short_name': '대잠동', 'types': ['political', 'sublocality', 'sublocality_level_2']}, {'long_name': '남구', 'short_name': '남구', 'types': ['political', 'sublocality', 'sublocality_level_1']}, {'long_name': '포항시', 'short_name': '포항시', 'types': ['locality', 'political']}, {'long_name': '경상북도', 'short_name': '경상북도', 'types': ['administrative_area_level_1', 'political']}, {'long_name': '대한민국', 'short_name': 'KR', 'types': ['country', 'political']}], 'formatted_address': '대한민국 경상북도 포항시 남구 대잠동', 'geometry': {'bounds': {'northeast': {'lat': 36.029097, 'lng': 129.3503099}, 'southwest': {'lat': 36.00774639999999, 'lng': 129.3289299}}, 'location': {'lat': 36.0191676, 'lng': 129.3387818}, 'location_type': 'APPROXIMATE', 'viewport': {'northeast': {'lat': 36.029097, 'lng': 129.3503099}, 'southwest': {'lat': 36.00774639999999, 'lng': 129.3289299}}}, 'place_id': 'ChIJjyb368ABZzURSOfUeDDYDg4', 'types': ['postal_code']}, {'address_components': [{'long_name': '대잠동', 'short_name': '대잠동', 'types': ['political', 'sublocality', 'sublocality_level_2']}, {'long_name': '남구', 'short_name': '남구', 'types': ['political', 'sublocality', 'sublocality_level_1']}, {'long_name': '포항시', 'short_name': '포항시', 'types': ['locality', 'political']}, {'long_name': '경상북도', 'short_name': '경상북도', 'types': ['administrative_area_level_1', 'political']}, {'long_name': '대한민국', 'short_name': 'KR', 'types': ['country', 'political']}, {'long_name': '790-310', 'short_name': '790-310', 'types': ['postal_code']}], 'formatted_address': '대한민국 경상북도 포항시 남구 대잠동', 'geometry': {'bounds': {'northeast': {'lat': 36.029097, 'lng': 129.3503099}, 'southwest': {'lat': 36.00774639999999, 'lng': 129.3289299}}, 'location': {'lat': 36.0174499, 'lng': 129.3396528}, 'location_type': 'APPROXIMATE', 'viewport': {'northeast': {'lat': 36.029097, 'lng': 129.3503099}, 'southwest': {'lat': 36.00774639999999, 'lng': 129.3289299}}}, 'place_id': 'ChIJjyb368ABZzURMaowf9U2sXo', 'types': ['political', 'sublocality', 'sublocality_level_2']}, {'address_components': [{'long_name': '남구', 'short_name': '남구', 'types': ['political', 'sublocality', 'sublocality_level_1']}, {'long_name': '포항시', 'short_name': '포항시', 'types': ['locality', 'political']}, {'long_name': '경상북도', 'short_name': '경상북도', 'types': ['administrative_area_level_1', 'political']}, {'long_name': '대한민국', 'short_name': 'KR', 'types': ['country', 'political']}], 'formatted_address': '대한민국 경상북도 포항시 남구', 'geometry': {'bounds': {'northeast': {'lat': 36.1029848, 'lng': 129.5976832}, 'southwest': {'lat': 35.8351122, 'lng': 129.2754871}}, 'location': {'lat': 36.0086283, 'lng': 129.3592306}, 'location_type': 'APPROXIMATE', 'viewport': {'northeast': {'lat': 36.1029848, 'lng': 129.5976832}, 'southwest': {'lat': 35.8351122, 'lng': 129.2754871}}}, 'place_id': 'ChIJhdqFdRwHZzURziZXfyn7fUA', 'types': ['political', 'sublocality', 'sublocality_level_1']}, {'address_components': [{'long_name': '포항시', 'short_name': '포항시', 'types': ['locality', 'political']}, {'long_name': '경상북도', 'short_name': '경상북도', 'types': ['administrative_area_level_1', 'political']}, {'long_name': '대한민국', 'short_name': 'KR', 'types': ['country', 'political']}], 'formatted_address': '대한민국 경상북도 포항시', 'geometry': {'bounds': {'northeast': {'lat': 36.3320526, 'lng': 129.5976832}, 'southwest': {'lat': 35.8351122, 'lng': 128.9886614}}, 'location': {'lat': 36.0190178, 'lng': 129.3434808}, 'location_type': 'APPROXIMATE', 'viewport': {'northeast': {'lat': 36.3320526, 'lng': 129.5976832}, 'southwest': {'lat': 35.8351122, 'lng': 128.9886614}}}, 'place_id': 'ChIJM8KTwLr9ZjURftSE6Hw24sg', 'types': ['locality', 'political']}, {'address_components': [{'long_name': '경상북도', 'short_name': '경상북도', 'types': ['administrative_area_level_1', 'political']}, {'long_name': '대한민국', 'short_name': 'KR', 'types': ['country', 'political']}], 'formatted_address': '대한민국 경상북도', 'geometry': {'bounds': {'northeast': {'lat': 37.5528384, 'lng': 130.9475079}, 'southwest': {'lat': 35.5664734, 'lng': 127.7938878}}, 'location': {'lat': 36.4919, 'lng': 128.8889}, 'location_type': 'APPROXIMATE', 'viewport': {'northeast': {'lat': 37.5528384, 'lng': 130.9475079}, 'southwest': {'lat': 35.5664734, 'lng': 127.7938878}}}, 'place_id': 'ChIJvRgZer-kYDURI9xMx5ppVsY', 'types': ['administrative_area_level_1', 'political']}, {'address_components': [{'long_name': '대한민국', 'short_name': 'KR', 'types': ['country', 'political']}], 'formatted_address': '대한민국', 'geometry': {'bounds': {'northeast': {'lat': 38.63400000000001, 'lng': 131.1603}, 'southwest': {'lat': 33.0041, 'lng': 124.5863}}, 'location': {'lat': 35.907757, 'lng': 127.766922}, 'location_type': 'APPROXIMATE', 'viewport': {'northeast': {'lat': 38.63400000000001, 'lng': 131.1603}, 'southwest': {'lat': 33.0041, 'lng': 124.5863}}}, 'place_id': 'ChIJm7oRy-tVZDURS9uIugCbJJE', 'types': ['country', 'political']}]\n"
     ]
    }
   ],
   "source": [
    "GOOGLE_MAP_KEY = \"ENTER_KEY\"\n",
    "\n",
    "url = f'https://www.googleapis.com/geolocation/v1/geolocate?key={GOOGLE_MAP_KEY}'\n",
    "data = {\n",
    "    'considerIp': True,\n",
    "}\n",
    "\n",
    "result = requests.post(url, data)\n",
    "\n",
    "print(result.text)\n",
    "result2 = json.loads(result.text)\n",
    "\n",
    "lat = result2[\"location\"][\"lat\"]\n",
    "lng = result2[\"location\"][\"lng\"]\n",
    "\n",
    "gmaps = googlemaps.Client(GOOGLE_MAP_KEY)\n",
    "reverse_geocode_result = gmaps.reverse_geocode((lat, lng),language='ko')\n",
    "\n",
    "print(reverse_geocode_result)"
   ]
  },
  {
   "cell_type": "code",
   "execution_count": null,
   "id": "09bab2a7",
   "metadata": {},
   "outputs": [],
   "source": []
  }
 ],
 "metadata": {
  "kernelspec": {
   "display_name": "CSED490D-SIGNAL",
   "language": "python",
   "name": "csed490"
  },
  "language_info": {
   "codemirror_mode": {
    "name": "ipython",
    "version": 3
   },
   "file_extension": ".py",
   "mimetype": "text/x-python",
   "name": "python",
   "nbconvert_exporter": "python",
   "pygments_lexer": "ipython3",
   "version": "3.10.6"
  }
 },
 "nbformat": 4,
 "nbformat_minor": 5
}
