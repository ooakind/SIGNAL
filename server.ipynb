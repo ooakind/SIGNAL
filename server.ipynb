{
 "cells": [
  {
   "cell_type": "code",
   "execution_count": 1,
   "id": "462ed7e7",
   "metadata": {},
   "outputs": [],
   "source": [
    "import socket"
   ]
  },
  {
   "cell_type": "code",
   "execution_count": 2,
   "id": "b0c0af57",
   "metadata": {},
   "outputs": [],
   "source": [
    "PORT = 8080"
   ]
  },
  {
   "cell_type": "code",
   "execution_count": 3,
   "id": "23c8b98a",
   "metadata": {},
   "outputs": [],
   "source": [
    "def getLocationStatus(latitude, longitude):\n",
    "    return 1"
   ]
  },
  {
   "cell_type": "code",
   "execution_count": null,
   "id": "bec29be8",
   "metadata": {},
   "outputs": [
    {
     "name": "stdout",
     "output_type": "stream",
     "text": [
      "Waiting...\n",
      "Connected to  ('192.168.50.165', 37916)\n",
      "latitude:  \u0000\u001636.0127427 longitude:  129.3216664\n",
      "Waiting...\n",
      "Connected to  ('192.168.50.165', 37922)\n",
      "latitude:  \u0000\u001536.012746 longitude:  129.3216668\n",
      "Waiting...\n",
      "Connected to  ('192.168.50.165', 37924)\n",
      "latitude:  \u0000\u001636.0127436 longitude:  129.3216647\n",
      "Waiting...\n",
      "Connected to  ('192.168.50.165', 37926)\n",
      "latitude:  \u0000\u001536.012745 longitude:  129.3216513\n",
      "Waiting...\n",
      "Connected to  ('192.168.50.165', 37928)\n",
      "latitude:  \u0000\u001636.0127464 longitude:  129.3216407\n",
      "Waiting...\n",
      "Connected to  ('192.168.50.165', 37932)\n",
      "latitude:  \u0000\u001636.0127489 longitude:  129.3216257\n",
      "Waiting...\n",
      "Connected to  ('192.168.50.165', 37934)\n",
      "latitude:  \u0000\u001636.0127416 longitude:  129.3216454\n",
      "Waiting...\n",
      "Connected to  ('192.168.50.165', 37938)\n",
      "latitude:  \u0000\u001636.0127425 longitude:  129.3216506\n",
      "Waiting...\n",
      "Connected to  ('192.168.50.165', 37942)\n",
      "latitude:  \u0000\u001636.0127434 longitude:  129.3216457\n",
      "Waiting...\n",
      "Connected to  ('192.168.50.165', 37946)\n",
      "latitude:  \u0000\u001636.0127477 longitude:  129.3216477\n",
      "Waiting...\n",
      "Connected to  ('192.168.50.165', 37948)\n",
      "latitude:  \u0000\u001636.0127465 longitude:  129.3216342\n",
      "Waiting...\n",
      "Connected to  ('192.168.50.165', 37952)\n",
      "latitude:  \u0000\u001536.0127533 longitude:  129.321627\n",
      "Waiting...\n",
      "Connected to  ('192.168.50.165', 37954)\n",
      "latitude:  \u0000\u001636.0127523 longitude:  129.3216313\n",
      "Waiting...\n",
      "Connected to  ('192.168.50.165', 37958)\n",
      "latitude:  \u0000\u001636.0127535 longitude:  129.3216362\n",
      "Waiting...\n"
     ]
    }
   ],
   "source": [
    "server_sock = socket.socket(socket.AF_INET)\n",
    "server_sock.bind((\"0.0.0.0\", PORT))\n",
    "\n",
    "while True:\n",
    "    server_sock.listen(1)\n",
    "    \n",
    "    print(\"Waiting...\")\n",
    "    client_sock, addr = server_sock.accept()\n",
    "    \n",
    "    print(\"Connected to \", addr)\n",
    "    data = client_sock.recv(1024)\n",
    "    data = data.decode(\"utf-8\")\n",
    "    \n",
    "    latitude, longitude = data.split(\" \")\n",
    "    print(\"latitude: \", latitude, \"longitude: \", longitude)\n",
    "    \n",
    "    status = getLocationStatus(latitude, longitude)\n",
    "    client_sock.send(status.to_bytes(4, byteorder='little'))\n",
    "    \n",
    "    client_sock.close()"
   ]
  },
  {
   "cell_type": "code",
   "execution_count": null,
   "id": "c11c447c",
   "metadata": {},
   "outputs": [],
   "source": []
  }
 ],
 "metadata": {
  "kernelspec": {
   "display_name": "CSED490D-SIGNAL",
   "language": "python",
   "name": "csed490"
  },
  "language_info": {
   "codemirror_mode": {
    "name": "ipython",
    "version": 3
   },
   "file_extension": ".py",
   "mimetype": "text/x-python",
   "name": "python",
   "nbconvert_exporter": "python",
   "pygments_lexer": "ipython3",
   "version": "3.10.6"
  }
 },
 "nbformat": 4,
 "nbformat_minor": 5
}
